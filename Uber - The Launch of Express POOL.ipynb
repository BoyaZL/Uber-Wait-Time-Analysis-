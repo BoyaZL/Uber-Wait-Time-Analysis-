{
  "nbformat": 4,
  "nbformat_minor": 0,
  "metadata": {
    "colab": {
      "provenance": []
    },
    "kernelspec": {
      "name": "python3",
      "display_name": "Python 3"
    },
    "language_info": {
      "name": "python"
    }
  },
  "cells": [
    {
      "cell_type": "code",
      "execution_count": 43,
      "metadata": {
        "id": "e1xhwEAipP1W"
      },
      "outputs": [],
      "source": [
        "import pandas as pd\n",
        "from scipy.stats import t,ttest_ind,ks_2samp,shapiro,anderson \n",
        "import scipy.stats as stats"
      ]
    },
    {
      "cell_type": "code",
      "source": [
        "df_raw = pd.read_excel('619702 - Innovation at Uber - The Launch of Express POOL, Spreadsheet Supplement.xlsx', sheet_name ='Switchbacks' )"
      ],
      "metadata": {
        "id": "SJCYD1Fkpbjm"
      },
      "execution_count": 3,
      "outputs": []
    },
    {
      "cell_type": "code",
      "source": [
        "df_raw.head()"
      ],
      "metadata": {
        "colab": {
          "base_uri": "https://localhost:8080/",
          "height": 347
        },
        "id": "BuQH68PVpidZ",
        "outputId": "1ed4ed2a-4ec2-4c45-f65a-7b56e9f06c3a"
      },
      "execution_count": 4,
      "outputs": [
        {
          "output_type": "execute_result",
          "data": {
            "text/plain": [
              "  city_id        period_start wait_time  treat  commute  trips_pool  \\\n",
              "0  Boston 2018-02-19 07:00:00    2 mins  False     True        1415   \n",
              "1  Boston 2018-02-19 09:40:00    5 mins   True    False        1461   \n",
              "2  Boston 2018-02-19 12:20:00    2 mins  False    False        1362   \n",
              "3  Boston 2018-02-19 15:00:00    5 mins   True     True        1984   \n",
              "4  Boston 2018-02-19 17:40:00    2 mins  False    False        1371   \n",
              "\n",
              "   trips_express_pool  rider_cancellations  total_driver_payout  \\\n",
              "0                3245                  256         34458.411634   \n",
              "1                2363                  203         29764.349821   \n",
              "2                2184                  118         27437.367363   \n",
              "3                3584                  355         44995.452993   \n",
              "4                2580                  181         27583.955295   \n",
              "\n",
              "   total_matches  total_double_matches  \n",
              "0           3372                  1476  \n",
              "1           2288                  1275  \n",
              "2           2283                   962  \n",
              "3           4035                  2021  \n",
              "4           2200                   979  "
            ],
            "text/html": [
              "\n",
              "  <div id=\"df-902410b2-95af-4cf9-9025-8771cd5a04a4\">\n",
              "    <div class=\"colab-df-container\">\n",
              "      <div>\n",
              "<style scoped>\n",
              "    .dataframe tbody tr th:only-of-type {\n",
              "        vertical-align: middle;\n",
              "    }\n",
              "\n",
              "    .dataframe tbody tr th {\n",
              "        vertical-align: top;\n",
              "    }\n",
              "\n",
              "    .dataframe thead th {\n",
              "        text-align: right;\n",
              "    }\n",
              "</style>\n",
              "<table border=\"1\" class=\"dataframe\">\n",
              "  <thead>\n",
              "    <tr style=\"text-align: right;\">\n",
              "      <th></th>\n",
              "      <th>city_id</th>\n",
              "      <th>period_start</th>\n",
              "      <th>wait_time</th>\n",
              "      <th>treat</th>\n",
              "      <th>commute</th>\n",
              "      <th>trips_pool</th>\n",
              "      <th>trips_express_pool</th>\n",
              "      <th>rider_cancellations</th>\n",
              "      <th>total_driver_payout</th>\n",
              "      <th>total_matches</th>\n",
              "      <th>total_double_matches</th>\n",
              "    </tr>\n",
              "  </thead>\n",
              "  <tbody>\n",
              "    <tr>\n",
              "      <th>0</th>\n",
              "      <td>Boston</td>\n",
              "      <td>2018-02-19 07:00:00</td>\n",
              "      <td>2 mins</td>\n",
              "      <td>False</td>\n",
              "      <td>True</td>\n",
              "      <td>1415</td>\n",
              "      <td>3245</td>\n",
              "      <td>256</td>\n",
              "      <td>34458.411634</td>\n",
              "      <td>3372</td>\n",
              "      <td>1476</td>\n",
              "    </tr>\n",
              "    <tr>\n",
              "      <th>1</th>\n",
              "      <td>Boston</td>\n",
              "      <td>2018-02-19 09:40:00</td>\n",
              "      <td>5 mins</td>\n",
              "      <td>True</td>\n",
              "      <td>False</td>\n",
              "      <td>1461</td>\n",
              "      <td>2363</td>\n",
              "      <td>203</td>\n",
              "      <td>29764.349821</td>\n",
              "      <td>2288</td>\n",
              "      <td>1275</td>\n",
              "    </tr>\n",
              "    <tr>\n",
              "      <th>2</th>\n",
              "      <td>Boston</td>\n",
              "      <td>2018-02-19 12:20:00</td>\n",
              "      <td>2 mins</td>\n",
              "      <td>False</td>\n",
              "      <td>False</td>\n",
              "      <td>1362</td>\n",
              "      <td>2184</td>\n",
              "      <td>118</td>\n",
              "      <td>27437.367363</td>\n",
              "      <td>2283</td>\n",
              "      <td>962</td>\n",
              "    </tr>\n",
              "    <tr>\n",
              "      <th>3</th>\n",
              "      <td>Boston</td>\n",
              "      <td>2018-02-19 15:00:00</td>\n",
              "      <td>5 mins</td>\n",
              "      <td>True</td>\n",
              "      <td>True</td>\n",
              "      <td>1984</td>\n",
              "      <td>3584</td>\n",
              "      <td>355</td>\n",
              "      <td>44995.452993</td>\n",
              "      <td>4035</td>\n",
              "      <td>2021</td>\n",
              "    </tr>\n",
              "    <tr>\n",
              "      <th>4</th>\n",
              "      <td>Boston</td>\n",
              "      <td>2018-02-19 17:40:00</td>\n",
              "      <td>2 mins</td>\n",
              "      <td>False</td>\n",
              "      <td>False</td>\n",
              "      <td>1371</td>\n",
              "      <td>2580</td>\n",
              "      <td>181</td>\n",
              "      <td>27583.955295</td>\n",
              "      <td>2200</td>\n",
              "      <td>979</td>\n",
              "    </tr>\n",
              "  </tbody>\n",
              "</table>\n",
              "</div>\n",
              "      <button class=\"colab-df-convert\" onclick=\"convertToInteractive('df-902410b2-95af-4cf9-9025-8771cd5a04a4')\"\n",
              "              title=\"Convert this dataframe to an interactive table.\"\n",
              "              style=\"display:none;\">\n",
              "        \n",
              "  <svg xmlns=\"http://www.w3.org/2000/svg\" height=\"24px\"viewBox=\"0 0 24 24\"\n",
              "       width=\"24px\">\n",
              "    <path d=\"M0 0h24v24H0V0z\" fill=\"none\"/>\n",
              "    <path d=\"M18.56 5.44l.94 2.06.94-2.06 2.06-.94-2.06-.94-.94-2.06-.94 2.06-2.06.94zm-11 1L8.5 8.5l.94-2.06 2.06-.94-2.06-.94L8.5 2.5l-.94 2.06-2.06.94zm10 10l.94 2.06.94-2.06 2.06-.94-2.06-.94-.94-2.06-.94 2.06-2.06.94z\"/><path d=\"M17.41 7.96l-1.37-1.37c-.4-.4-.92-.59-1.43-.59-.52 0-1.04.2-1.43.59L10.3 9.45l-7.72 7.72c-.78.78-.78 2.05 0 2.83L4 21.41c.39.39.9.59 1.41.59.51 0 1.02-.2 1.41-.59l7.78-7.78 2.81-2.81c.8-.78.8-2.07 0-2.86zM5.41 20L4 18.59l7.72-7.72 1.47 1.35L5.41 20z\"/>\n",
              "  </svg>\n",
              "      </button>\n",
              "      \n",
              "  <style>\n",
              "    .colab-df-container {\n",
              "      display:flex;\n",
              "      flex-wrap:wrap;\n",
              "      gap: 12px;\n",
              "    }\n",
              "\n",
              "    .colab-df-convert {\n",
              "      background-color: #E8F0FE;\n",
              "      border: none;\n",
              "      border-radius: 50%;\n",
              "      cursor: pointer;\n",
              "      display: none;\n",
              "      fill: #1967D2;\n",
              "      height: 32px;\n",
              "      padding: 0 0 0 0;\n",
              "      width: 32px;\n",
              "    }\n",
              "\n",
              "    .colab-df-convert:hover {\n",
              "      background-color: #E2EBFA;\n",
              "      box-shadow: 0px 1px 2px rgba(60, 64, 67, 0.3), 0px 1px 3px 1px rgba(60, 64, 67, 0.15);\n",
              "      fill: #174EA6;\n",
              "    }\n",
              "\n",
              "    [theme=dark] .colab-df-convert {\n",
              "      background-color: #3B4455;\n",
              "      fill: #D2E3FC;\n",
              "    }\n",
              "\n",
              "    [theme=dark] .colab-df-convert:hover {\n",
              "      background-color: #434B5C;\n",
              "      box-shadow: 0px 1px 3px 1px rgba(0, 0, 0, 0.15);\n",
              "      filter: drop-shadow(0px 1px 2px rgba(0, 0, 0, 0.3));\n",
              "      fill: #FFFFFF;\n",
              "    }\n",
              "  </style>\n",
              "\n",
              "      <script>\n",
              "        const buttonEl =\n",
              "          document.querySelector('#df-902410b2-95af-4cf9-9025-8771cd5a04a4 button.colab-df-convert');\n",
              "        buttonEl.style.display =\n",
              "          google.colab.kernel.accessAllowed ? 'block' : 'none';\n",
              "\n",
              "        async function convertToInteractive(key) {\n",
              "          const element = document.querySelector('#df-902410b2-95af-4cf9-9025-8771cd5a04a4');\n",
              "          const dataTable =\n",
              "            await google.colab.kernel.invokeFunction('convertToInteractive',\n",
              "                                                     [key], {});\n",
              "          if (!dataTable) return;\n",
              "\n",
              "          const docLinkHtml = 'Like what you see? Visit the ' +\n",
              "            '<a target=\"_blank\" href=https://colab.research.google.com/notebooks/data_table.ipynb>data table notebook</a>'\n",
              "            + ' to learn more about interactive tables.';\n",
              "          element.innerHTML = '';\n",
              "          dataTable['output_type'] = 'display_data';\n",
              "          await google.colab.output.renderOutput(dataTable, element);\n",
              "          const docLink = document.createElement('div');\n",
              "          docLink.innerHTML = docLinkHtml;\n",
              "          element.appendChild(docLink);\n",
              "        }\n",
              "      </script>\n",
              "    </div>\n",
              "  </div>\n",
              "  "
            ]
          },
          "metadata": {},
          "execution_count": 4
        }
      ]
    },
    {
      "cell_type": "code",
      "source": [
        "df_raw['total_ride'] = df_raw['trips_express_pool'] + df_raw['trips_pool']\n",
        "df_raw['cost_per_ride'] = df_raw['total_driver_payout']/df_raw['total_ride']\n",
        "df_raw['double_matches_rate'] = df_raw['total_double_matches']/df_raw['total_ride']\n",
        "df_raw['match_rate'] = df_raw['total_matches']/df_raw['total_ride']"
      ],
      "metadata": {
        "id": "yYzsAQgfprib"
      },
      "execution_count": 6,
      "outputs": []
    },
    {
      "cell_type": "code",
      "source": [
        "df_raw.head()"
      ],
      "metadata": {
        "colab": {
          "base_uri": "https://localhost:8080/",
          "height": 347
        },
        "id": "ryw3TN1Dqtn7",
        "outputId": "c3052a0c-fbbe-4846-88da-9d8c662bbf38"
      },
      "execution_count": 90,
      "outputs": [
        {
          "output_type": "execute_result",
          "data": {
            "text/plain": [
              "  city_id        period_start wait_time  treat  commute  trips_pool  \\\n",
              "0  Boston 2018-02-19 07:00:00    2 mins  False     True        1415   \n",
              "1  Boston 2018-02-19 09:40:00    5 mins   True    False        1461   \n",
              "2  Boston 2018-02-19 12:20:00    2 mins  False    False        1362   \n",
              "3  Boston 2018-02-19 15:00:00    5 mins   True     True        1984   \n",
              "4  Boston 2018-02-19 17:40:00    2 mins  False    False        1371   \n",
              "\n",
              "   trips_express_pool  rider_cancellations  total_driver_payout  \\\n",
              "0                3245                  256         34458.411634   \n",
              "1                2363                  203         29764.349821   \n",
              "2                2184                  118         27437.367363   \n",
              "3                3584                  355         44995.452993   \n",
              "4                2580                  181         27583.955295   \n",
              "\n",
              "   total_matches  total_double_matches  total_ride  cost_per_ride  \\\n",
              "0           3372                  1476        4660       7.394509   \n",
              "1           2288                  1275        3824       7.783564   \n",
              "2           2283                   962        3546       7.737554   \n",
              "3           4035                  2021        5568       8.081080   \n",
              "4           2200                   979        3951       6.981512   \n",
              "\n",
              "   double_matches_rate  match_rate  \n",
              "0             0.316738    0.723605  \n",
              "1             0.333421    0.598326  \n",
              "2             0.271292    0.643824  \n",
              "3             0.362967    0.724677  \n",
              "4             0.247785    0.556821  "
            ],
            "text/html": [
              "\n",
              "  <div id=\"df-5654351e-38f2-4373-b193-fabba1d0be1c\">\n",
              "    <div class=\"colab-df-container\">\n",
              "      <div>\n",
              "<style scoped>\n",
              "    .dataframe tbody tr th:only-of-type {\n",
              "        vertical-align: middle;\n",
              "    }\n",
              "\n",
              "    .dataframe tbody tr th {\n",
              "        vertical-align: top;\n",
              "    }\n",
              "\n",
              "    .dataframe thead th {\n",
              "        text-align: right;\n",
              "    }\n",
              "</style>\n",
              "<table border=\"1\" class=\"dataframe\">\n",
              "  <thead>\n",
              "    <tr style=\"text-align: right;\">\n",
              "      <th></th>\n",
              "      <th>city_id</th>\n",
              "      <th>period_start</th>\n",
              "      <th>wait_time</th>\n",
              "      <th>treat</th>\n",
              "      <th>commute</th>\n",
              "      <th>trips_pool</th>\n",
              "      <th>trips_express_pool</th>\n",
              "      <th>rider_cancellations</th>\n",
              "      <th>total_driver_payout</th>\n",
              "      <th>total_matches</th>\n",
              "      <th>total_double_matches</th>\n",
              "      <th>total_ride</th>\n",
              "      <th>cost_per_ride</th>\n",
              "      <th>double_matches_rate</th>\n",
              "      <th>match_rate</th>\n",
              "    </tr>\n",
              "  </thead>\n",
              "  <tbody>\n",
              "    <tr>\n",
              "      <th>0</th>\n",
              "      <td>Boston</td>\n",
              "      <td>2018-02-19 07:00:00</td>\n",
              "      <td>2 mins</td>\n",
              "      <td>False</td>\n",
              "      <td>True</td>\n",
              "      <td>1415</td>\n",
              "      <td>3245</td>\n",
              "      <td>256</td>\n",
              "      <td>34458.411634</td>\n",
              "      <td>3372</td>\n",
              "      <td>1476</td>\n",
              "      <td>4660</td>\n",
              "      <td>7.394509</td>\n",
              "      <td>0.316738</td>\n",
              "      <td>0.723605</td>\n",
              "    </tr>\n",
              "    <tr>\n",
              "      <th>1</th>\n",
              "      <td>Boston</td>\n",
              "      <td>2018-02-19 09:40:00</td>\n",
              "      <td>5 mins</td>\n",
              "      <td>True</td>\n",
              "      <td>False</td>\n",
              "      <td>1461</td>\n",
              "      <td>2363</td>\n",
              "      <td>203</td>\n",
              "      <td>29764.349821</td>\n",
              "      <td>2288</td>\n",
              "      <td>1275</td>\n",
              "      <td>3824</td>\n",
              "      <td>7.783564</td>\n",
              "      <td>0.333421</td>\n",
              "      <td>0.598326</td>\n",
              "    </tr>\n",
              "    <tr>\n",
              "      <th>2</th>\n",
              "      <td>Boston</td>\n",
              "      <td>2018-02-19 12:20:00</td>\n",
              "      <td>2 mins</td>\n",
              "      <td>False</td>\n",
              "      <td>False</td>\n",
              "      <td>1362</td>\n",
              "      <td>2184</td>\n",
              "      <td>118</td>\n",
              "      <td>27437.367363</td>\n",
              "      <td>2283</td>\n",
              "      <td>962</td>\n",
              "      <td>3546</td>\n",
              "      <td>7.737554</td>\n",
              "      <td>0.271292</td>\n",
              "      <td>0.643824</td>\n",
              "    </tr>\n",
              "    <tr>\n",
              "      <th>3</th>\n",
              "      <td>Boston</td>\n",
              "      <td>2018-02-19 15:00:00</td>\n",
              "      <td>5 mins</td>\n",
              "      <td>True</td>\n",
              "      <td>True</td>\n",
              "      <td>1984</td>\n",
              "      <td>3584</td>\n",
              "      <td>355</td>\n",
              "      <td>44995.452993</td>\n",
              "      <td>4035</td>\n",
              "      <td>2021</td>\n",
              "      <td>5568</td>\n",
              "      <td>8.081080</td>\n",
              "      <td>0.362967</td>\n",
              "      <td>0.724677</td>\n",
              "    </tr>\n",
              "    <tr>\n",
              "      <th>4</th>\n",
              "      <td>Boston</td>\n",
              "      <td>2018-02-19 17:40:00</td>\n",
              "      <td>2 mins</td>\n",
              "      <td>False</td>\n",
              "      <td>False</td>\n",
              "      <td>1371</td>\n",
              "      <td>2580</td>\n",
              "      <td>181</td>\n",
              "      <td>27583.955295</td>\n",
              "      <td>2200</td>\n",
              "      <td>979</td>\n",
              "      <td>3951</td>\n",
              "      <td>6.981512</td>\n",
              "      <td>0.247785</td>\n",
              "      <td>0.556821</td>\n",
              "    </tr>\n",
              "  </tbody>\n",
              "</table>\n",
              "</div>\n",
              "      <button class=\"colab-df-convert\" onclick=\"convertToInteractive('df-5654351e-38f2-4373-b193-fabba1d0be1c')\"\n",
              "              title=\"Convert this dataframe to an interactive table.\"\n",
              "              style=\"display:none;\">\n",
              "        \n",
              "  <svg xmlns=\"http://www.w3.org/2000/svg\" height=\"24px\"viewBox=\"0 0 24 24\"\n",
              "       width=\"24px\">\n",
              "    <path d=\"M0 0h24v24H0V0z\" fill=\"none\"/>\n",
              "    <path d=\"M18.56 5.44l.94 2.06.94-2.06 2.06-.94-2.06-.94-.94-2.06-.94 2.06-2.06.94zm-11 1L8.5 8.5l.94-2.06 2.06-.94-2.06-.94L8.5 2.5l-.94 2.06-2.06.94zm10 10l.94 2.06.94-2.06 2.06-.94-2.06-.94-.94-2.06-.94 2.06-2.06.94z\"/><path d=\"M17.41 7.96l-1.37-1.37c-.4-.4-.92-.59-1.43-.59-.52 0-1.04.2-1.43.59L10.3 9.45l-7.72 7.72c-.78.78-.78 2.05 0 2.83L4 21.41c.39.39.9.59 1.41.59.51 0 1.02-.2 1.41-.59l7.78-7.78 2.81-2.81c.8-.78.8-2.07 0-2.86zM5.41 20L4 18.59l7.72-7.72 1.47 1.35L5.41 20z\"/>\n",
              "  </svg>\n",
              "      </button>\n",
              "      \n",
              "  <style>\n",
              "    .colab-df-container {\n",
              "      display:flex;\n",
              "      flex-wrap:wrap;\n",
              "      gap: 12px;\n",
              "    }\n",
              "\n",
              "    .colab-df-convert {\n",
              "      background-color: #E8F0FE;\n",
              "      border: none;\n",
              "      border-radius: 50%;\n",
              "      cursor: pointer;\n",
              "      display: none;\n",
              "      fill: #1967D2;\n",
              "      height: 32px;\n",
              "      padding: 0 0 0 0;\n",
              "      width: 32px;\n",
              "    }\n",
              "\n",
              "    .colab-df-convert:hover {\n",
              "      background-color: #E2EBFA;\n",
              "      box-shadow: 0px 1px 2px rgba(60, 64, 67, 0.3), 0px 1px 3px 1px rgba(60, 64, 67, 0.15);\n",
              "      fill: #174EA6;\n",
              "    }\n",
              "\n",
              "    [theme=dark] .colab-df-convert {\n",
              "      background-color: #3B4455;\n",
              "      fill: #D2E3FC;\n",
              "    }\n",
              "\n",
              "    [theme=dark] .colab-df-convert:hover {\n",
              "      background-color: #434B5C;\n",
              "      box-shadow: 0px 1px 3px 1px rgba(0, 0, 0, 0.15);\n",
              "      filter: drop-shadow(0px 1px 2px rgba(0, 0, 0, 0.3));\n",
              "      fill: #FFFFFF;\n",
              "    }\n",
              "  </style>\n",
              "\n",
              "      <script>\n",
              "        const buttonEl =\n",
              "          document.querySelector('#df-5654351e-38f2-4373-b193-fabba1d0be1c button.colab-df-convert');\n",
              "        buttonEl.style.display =\n",
              "          google.colab.kernel.accessAllowed ? 'block' : 'none';\n",
              "\n",
              "        async function convertToInteractive(key) {\n",
              "          const element = document.querySelector('#df-5654351e-38f2-4373-b193-fabba1d0be1c');\n",
              "          const dataTable =\n",
              "            await google.colab.kernel.invokeFunction('convertToInteractive',\n",
              "                                                     [key], {});\n",
              "          if (!dataTable) return;\n",
              "\n",
              "          const docLinkHtml = 'Like what you see? Visit the ' +\n",
              "            '<a target=\"_blank\" href=https://colab.research.google.com/notebooks/data_table.ipynb>data table notebook</a>'\n",
              "            + ' to learn more about interactive tables.';\n",
              "          element.innerHTML = '';\n",
              "          dataTable['output_type'] = 'display_data';\n",
              "          await google.colab.output.renderOutput(dataTable, element);\n",
              "          const docLink = document.createElement('div');\n",
              "          docLink.innerHTML = docLinkHtml;\n",
              "          element.appendChild(docLink);\n",
              "        }\n",
              "      </script>\n",
              "    </div>\n",
              "  </div>\n",
              "  "
            ]
          },
          "metadata": {},
          "execution_count": 90
        }
      ]
    },
    {
      "cell_type": "markdown",
      "source": [
        "#### Question 1"
      ],
      "metadata": {
        "id": "FPdDmtG6qvoT"
      }
    },
    {
      "cell_type": "markdown",
      "source": [
        "What is the difference between ride cancellations and cost per trip of 2 min wait time against a 5 min wait time? Is the difference statistically significant at a 95% confidence level (5% significant level)? Write one-sided hypothesis tests and use parametric test statistics (you don’t need to validate the assumption of the parametric approach)."
      ],
      "metadata": {
        "id": "VBZBtTaWq0FZ"
      }
    },
    {
      "cell_type": "code",
      "source": [
        "summary = df_raw.groupby(['wait_time'])['rider_cancellations','cost_per_ride'].agg('mean').T\n",
        "summary['diff (2mins - 5mins)'] = summary['2 mins'] - summary['5 mins']\n",
        "summary"
      ],
      "metadata": {
        "colab": {
          "base_uri": "https://localhost:8080/",
          "height": 162
        },
        "id": "0N7xb0cAqyGG",
        "outputId": "d83db77b-76ab-40f5-9de5-da509d03e6b9"
      },
      "execution_count": 9,
      "outputs": [
        {
          "output_type": "stream",
          "name": "stderr",
          "text": [
            "<ipython-input-9-4a786d50c656>:1: FutureWarning: Indexing with multiple keys (implicitly converted to a tuple of keys) will be deprecated, use a list instead.\n",
            "  summary = df_raw.groupby(['wait_time'])['rider_cancellations','cost_per_ride'].agg('mean').T\n"
          ]
        },
        {
          "output_type": "execute_result",
          "data": {
            "text/plain": [
              "wait_time                2 mins      5 mins  diff (2mins - 5mins)\n",
              "rider_cancellations  165.349206  190.126984            -24.777778\n",
              "cost_per_ride          7.364866    6.987458              0.377409"
            ],
            "text/html": [
              "\n",
              "  <div id=\"df-008b57c0-ed39-4720-aef4-dd0e6641c4c1\">\n",
              "    <div class=\"colab-df-container\">\n",
              "      <div>\n",
              "<style scoped>\n",
              "    .dataframe tbody tr th:only-of-type {\n",
              "        vertical-align: middle;\n",
              "    }\n",
              "\n",
              "    .dataframe tbody tr th {\n",
              "        vertical-align: top;\n",
              "    }\n",
              "\n",
              "    .dataframe thead th {\n",
              "        text-align: right;\n",
              "    }\n",
              "</style>\n",
              "<table border=\"1\" class=\"dataframe\">\n",
              "  <thead>\n",
              "    <tr style=\"text-align: right;\">\n",
              "      <th>wait_time</th>\n",
              "      <th>2 mins</th>\n",
              "      <th>5 mins</th>\n",
              "      <th>diff (2mins - 5mins)</th>\n",
              "    </tr>\n",
              "  </thead>\n",
              "  <tbody>\n",
              "    <tr>\n",
              "      <th>rider_cancellations</th>\n",
              "      <td>165.349206</td>\n",
              "      <td>190.126984</td>\n",
              "      <td>-24.777778</td>\n",
              "    </tr>\n",
              "    <tr>\n",
              "      <th>cost_per_ride</th>\n",
              "      <td>7.364866</td>\n",
              "      <td>6.987458</td>\n",
              "      <td>0.377409</td>\n",
              "    </tr>\n",
              "  </tbody>\n",
              "</table>\n",
              "</div>\n",
              "      <button class=\"colab-df-convert\" onclick=\"convertToInteractive('df-008b57c0-ed39-4720-aef4-dd0e6641c4c1')\"\n",
              "              title=\"Convert this dataframe to an interactive table.\"\n",
              "              style=\"display:none;\">\n",
              "        \n",
              "  <svg xmlns=\"http://www.w3.org/2000/svg\" height=\"24px\"viewBox=\"0 0 24 24\"\n",
              "       width=\"24px\">\n",
              "    <path d=\"M0 0h24v24H0V0z\" fill=\"none\"/>\n",
              "    <path d=\"M18.56 5.44l.94 2.06.94-2.06 2.06-.94-2.06-.94-.94-2.06-.94 2.06-2.06.94zm-11 1L8.5 8.5l.94-2.06 2.06-.94-2.06-.94L8.5 2.5l-.94 2.06-2.06.94zm10 10l.94 2.06.94-2.06 2.06-.94-2.06-.94-.94-2.06-.94 2.06-2.06.94z\"/><path d=\"M17.41 7.96l-1.37-1.37c-.4-.4-.92-.59-1.43-.59-.52 0-1.04.2-1.43.59L10.3 9.45l-7.72 7.72c-.78.78-.78 2.05 0 2.83L4 21.41c.39.39.9.59 1.41.59.51 0 1.02-.2 1.41-.59l7.78-7.78 2.81-2.81c.8-.78.8-2.07 0-2.86zM5.41 20L4 18.59l7.72-7.72 1.47 1.35L5.41 20z\"/>\n",
              "  </svg>\n",
              "      </button>\n",
              "      \n",
              "  <style>\n",
              "    .colab-df-container {\n",
              "      display:flex;\n",
              "      flex-wrap:wrap;\n",
              "      gap: 12px;\n",
              "    }\n",
              "\n",
              "    .colab-df-convert {\n",
              "      background-color: #E8F0FE;\n",
              "      border: none;\n",
              "      border-radius: 50%;\n",
              "      cursor: pointer;\n",
              "      display: none;\n",
              "      fill: #1967D2;\n",
              "      height: 32px;\n",
              "      padding: 0 0 0 0;\n",
              "      width: 32px;\n",
              "    }\n",
              "\n",
              "    .colab-df-convert:hover {\n",
              "      background-color: #E2EBFA;\n",
              "      box-shadow: 0px 1px 2px rgba(60, 64, 67, 0.3), 0px 1px 3px 1px rgba(60, 64, 67, 0.15);\n",
              "      fill: #174EA6;\n",
              "    }\n",
              "\n",
              "    [theme=dark] .colab-df-convert {\n",
              "      background-color: #3B4455;\n",
              "      fill: #D2E3FC;\n",
              "    }\n",
              "\n",
              "    [theme=dark] .colab-df-convert:hover {\n",
              "      background-color: #434B5C;\n",
              "      box-shadow: 0px 1px 3px 1px rgba(0, 0, 0, 0.15);\n",
              "      filter: drop-shadow(0px 1px 2px rgba(0, 0, 0, 0.3));\n",
              "      fill: #FFFFFF;\n",
              "    }\n",
              "  </style>\n",
              "\n",
              "      <script>\n",
              "        const buttonEl =\n",
              "          document.querySelector('#df-008b57c0-ed39-4720-aef4-dd0e6641c4c1 button.colab-df-convert');\n",
              "        buttonEl.style.display =\n",
              "          google.colab.kernel.accessAllowed ? 'block' : 'none';\n",
              "\n",
              "        async function convertToInteractive(key) {\n",
              "          const element = document.querySelector('#df-008b57c0-ed39-4720-aef4-dd0e6641c4c1');\n",
              "          const dataTable =\n",
              "            await google.colab.kernel.invokeFunction('convertToInteractive',\n",
              "                                                     [key], {});\n",
              "          if (!dataTable) return;\n",
              "\n",
              "          const docLinkHtml = 'Like what you see? Visit the ' +\n",
              "            '<a target=\"_blank\" href=https://colab.research.google.com/notebooks/data_table.ipynb>data table notebook</a>'\n",
              "            + ' to learn more about interactive tables.';\n",
              "          element.innerHTML = '';\n",
              "          dataTable['output_type'] = 'display_data';\n",
              "          await google.colab.output.renderOutput(dataTable, element);\n",
              "          const docLink = document.createElement('div');\n",
              "          docLink.innerHTML = docLinkHtml;\n",
              "          element.appendChild(docLink);\n",
              "        }\n",
              "      </script>\n",
              "    </div>\n",
              "  </div>\n",
              "  "
            ]
          },
          "metadata": {},
          "execution_count": 9
        }
      ]
    },
    {
      "cell_type": "markdown",
      "source": [
        "##### Ride Cancellation"
      ],
      "metadata": {
        "id": "zpNA6IWIRwIJ"
      }
    },
    {
      "cell_type": "markdown",
      "source": [
        "$Hypothesis Test\\\\\n",
        " H_0: \\mu_{ride\\ cancellations\\ in\\ 2min} - \\mu_{ride\\ cancellations\\ in\\ 5min} \\ge 0\\\\ \n",
        " H_a: \\mu_{ride\\ cancellations\\ in\\ 2min} - \\mu_{ride\\ cancellations\\ in\\ 5min} < 0$\n"
      ],
      "metadata": {
        "id": "6CSQwo-Trf2N"
      }
    },
    {
      "cell_type": "code",
      "source": [
        "statistic,p_value =  ttest_ind(df_raw[df_raw['treat']==False]['rider_cancellations'],df_raw[df_raw['treat']==True]['rider_cancellations'], alternative='less')\n",
        "print('Statistics = %.3f, P-value=%.3f' %(statistic,p_value))"
      ],
      "metadata": {
        "colab": {
          "base_uri": "https://localhost:8080/"
        },
        "id": "zte6UleirduG",
        "outputId": "0e24eea8-ec6d-4fbb-e38d-e2d3392c7f07"
      },
      "execution_count": 17,
      "outputs": [
        {
          "output_type": "stream",
          "name": "stdout",
          "text": [
            "Statistics = -2.764, P-value=0.003\n"
          ]
        }
      ]
    },
    {
      "cell_type": "markdown",
      "source": [
        "- Finding: T-test: P-value=0.03 < $α$ = 0.05, we reject  the null hypothesis\n",
        "- Conclusion: We are 95% confident to reject the null hypothesis that the differnece betweeen ride cancellations of 2 min wait time against a 5 min wait time is greater or equal to zero. Instead, rider cancellations of 2 min wait time are roughly 25 times less than that of 5 min wait time. "
      ],
      "metadata": {
        "id": "ae7OeWx1usbg"
      }
    },
    {
      "cell_type": "markdown",
      "source": [
        "##### Cost per Trip "
      ],
      "metadata": {
        "id": "WWqjLdc2R0Sy"
      }
    },
    {
      "cell_type": "markdown",
      "source": [
        "$Hypothesis Test\\\\\n",
        " H_0: \\mu_{cost\\ per\\ trip\\ in\\ 2min} - \\mu_{cost\\ per\\ trip\\ in\\ 5min} \\le 0\\\\ \n",
        " H_a: \\mu_{cost\\ per\\ trip\\ in\\ 2min} - \\mu_{cost\\ per\\ trip\\ in\\ 5min}> 0$\n"
      ],
      "metadata": {
        "id": "dfoKj6FWwMO8"
      }
    },
    {
      "cell_type": "code",
      "source": [
        "statistic,p_value =  ttest_ind(df_raw[df_raw['treat']==False]['cost_per_ride'],df_raw[df_raw['treat']==True]['cost_per_ride'], alternative='greater')\n",
        "print('Statistics = %.3f, P-value=%.3f' %(statistic,p_value))"
      ],
      "metadata": {
        "colab": {
          "base_uri": "https://localhost:8080/"
        },
        "id": "ZHto0YRdwdNY",
        "outputId": "9730cf44-4317-4d42-b844-0e11ec41f414"
      },
      "execution_count": 18,
      "outputs": [
        {
          "output_type": "stream",
          "name": "stdout",
          "text": [
            "Statistics = 3.462, P-value=0.000\n"
          ]
        }
      ]
    },
    {
      "cell_type": "markdown",
      "source": [
        "- Finding: T-test: P-value=0.000 < $α$ = 0.05, we reject  the null hypothesis\n",
        "- Conclusion: We are 95% confident to reject the null hypothesis that the differnece betweeen ride cancellations of 2 min wait time against a 5 min wait time is less or equal to zero. Instead, cost per ride of 2 min wait time are roughly $0.38 more than that of 5 min wait time. "
      ],
      "metadata": {
        "id": "Eh-BY2XHD1Y-"
      }
    },
    {
      "cell_type": "markdown",
      "source": [
        "#### Question 2"
      ],
      "metadata": {
        "id": "2raDOa7mv_VO"
      }
    },
    {
      "cell_type": "markdown",
      "source": [
        "Does the median number of express trips,  ride cancellations, and cost per trip change for commuting versus non-commuting hours at a 95% level of confidence (5%  significant level)? Use a one-sided hypothesis test to confirm your findings (Use only non-parametric test statistics)"
      ],
      "metadata": {
        "id": "g_Qp2MQ6wBWJ"
      }
    },
    {
      "cell_type": "code",
      "source": [
        "df_commute = df_raw[df_raw['commute']==True]\n",
        "df_non_commute = df_raw[df_raw['commute']==False]"
      ],
      "metadata": {
        "id": "IqFB4huzNN3-"
      },
      "execution_count": 50,
      "outputs": []
    },
    {
      "cell_type": "code",
      "source": [
        "# summary of commute\n",
        "summary = df_commute.groupby(['wait_time'])['rider_cancellations','cost_per_ride','trips_express_pool'].agg('median').T\n",
        "summary['diff (2mins - 5mins)'] = summary['2 mins'] - summary['5 mins']\n",
        "summary"
      ],
      "metadata": {
        "colab": {
          "base_uri": "https://localhost:8080/",
          "height": 192
        },
        "id": "jF_kYU6xv-N-",
        "outputId": "9d6c1cf0-8a09-411c-b04d-38a33c8df2f9"
      },
      "execution_count": 55,
      "outputs": [
        {
          "output_type": "stream",
          "name": "stderr",
          "text": [
            "<ipython-input-55-c1b9199226b8>:2: FutureWarning: Indexing with multiple keys (implicitly converted to a tuple of keys) will be deprecated, use a list instead.\n",
            "  summary = df_commute.groupby(['wait_time'])['rider_cancellations','cost_per_ride','trips_express_pool'].agg('median').T\n"
          ]
        },
        {
          "output_type": "execute_result",
          "data": {
            "text/plain": [
              "wait_time                 2 mins       5 mins  diff (2mins - 5mins)\n",
              "rider_cancellations   240.500000   290.000000            -49.500000\n",
              "cost_per_ride           7.987099     7.647872              0.339226\n",
              "trips_express_pool   3434.500000  3280.500000            154.000000"
            ],
            "text/html": [
              "\n",
              "  <div id=\"df-938f6f87-45eb-4270-8da5-092d36a44e1d\">\n",
              "    <div class=\"colab-df-container\">\n",
              "      <div>\n",
              "<style scoped>\n",
              "    .dataframe tbody tr th:only-of-type {\n",
              "        vertical-align: middle;\n",
              "    }\n",
              "\n",
              "    .dataframe tbody tr th {\n",
              "        vertical-align: top;\n",
              "    }\n",
              "\n",
              "    .dataframe thead th {\n",
              "        text-align: right;\n",
              "    }\n",
              "</style>\n",
              "<table border=\"1\" class=\"dataframe\">\n",
              "  <thead>\n",
              "    <tr style=\"text-align: right;\">\n",
              "      <th>wait_time</th>\n",
              "      <th>2 mins</th>\n",
              "      <th>5 mins</th>\n",
              "      <th>diff (2mins - 5mins)</th>\n",
              "    </tr>\n",
              "  </thead>\n",
              "  <tbody>\n",
              "    <tr>\n",
              "      <th>rider_cancellations</th>\n",
              "      <td>240.500000</td>\n",
              "      <td>290.000000</td>\n",
              "      <td>-49.500000</td>\n",
              "    </tr>\n",
              "    <tr>\n",
              "      <th>cost_per_ride</th>\n",
              "      <td>7.987099</td>\n",
              "      <td>7.647872</td>\n",
              "      <td>0.339226</td>\n",
              "    </tr>\n",
              "    <tr>\n",
              "      <th>trips_express_pool</th>\n",
              "      <td>3434.500000</td>\n",
              "      <td>3280.500000</td>\n",
              "      <td>154.000000</td>\n",
              "    </tr>\n",
              "  </tbody>\n",
              "</table>\n",
              "</div>\n",
              "      <button class=\"colab-df-convert\" onclick=\"convertToInteractive('df-938f6f87-45eb-4270-8da5-092d36a44e1d')\"\n",
              "              title=\"Convert this dataframe to an interactive table.\"\n",
              "              style=\"display:none;\">\n",
              "        \n",
              "  <svg xmlns=\"http://www.w3.org/2000/svg\" height=\"24px\"viewBox=\"0 0 24 24\"\n",
              "       width=\"24px\">\n",
              "    <path d=\"M0 0h24v24H0V0z\" fill=\"none\"/>\n",
              "    <path d=\"M18.56 5.44l.94 2.06.94-2.06 2.06-.94-2.06-.94-.94-2.06-.94 2.06-2.06.94zm-11 1L8.5 8.5l.94-2.06 2.06-.94-2.06-.94L8.5 2.5l-.94 2.06-2.06.94zm10 10l.94 2.06.94-2.06 2.06-.94-2.06-.94-.94-2.06-.94 2.06-2.06.94z\"/><path d=\"M17.41 7.96l-1.37-1.37c-.4-.4-.92-.59-1.43-.59-.52 0-1.04.2-1.43.59L10.3 9.45l-7.72 7.72c-.78.78-.78 2.05 0 2.83L4 21.41c.39.39.9.59 1.41.59.51 0 1.02-.2 1.41-.59l7.78-7.78 2.81-2.81c.8-.78.8-2.07 0-2.86zM5.41 20L4 18.59l7.72-7.72 1.47 1.35L5.41 20z\"/>\n",
              "  </svg>\n",
              "      </button>\n",
              "      \n",
              "  <style>\n",
              "    .colab-df-container {\n",
              "      display:flex;\n",
              "      flex-wrap:wrap;\n",
              "      gap: 12px;\n",
              "    }\n",
              "\n",
              "    .colab-df-convert {\n",
              "      background-color: #E8F0FE;\n",
              "      border: none;\n",
              "      border-radius: 50%;\n",
              "      cursor: pointer;\n",
              "      display: none;\n",
              "      fill: #1967D2;\n",
              "      height: 32px;\n",
              "      padding: 0 0 0 0;\n",
              "      width: 32px;\n",
              "    }\n",
              "\n",
              "    .colab-df-convert:hover {\n",
              "      background-color: #E2EBFA;\n",
              "      box-shadow: 0px 1px 2px rgba(60, 64, 67, 0.3), 0px 1px 3px 1px rgba(60, 64, 67, 0.15);\n",
              "      fill: #174EA6;\n",
              "    }\n",
              "\n",
              "    [theme=dark] .colab-df-convert {\n",
              "      background-color: #3B4455;\n",
              "      fill: #D2E3FC;\n",
              "    }\n",
              "\n",
              "    [theme=dark] .colab-df-convert:hover {\n",
              "      background-color: #434B5C;\n",
              "      box-shadow: 0px 1px 3px 1px rgba(0, 0, 0, 0.15);\n",
              "      filter: drop-shadow(0px 1px 2px rgba(0, 0, 0, 0.3));\n",
              "      fill: #FFFFFF;\n",
              "    }\n",
              "  </style>\n",
              "\n",
              "      <script>\n",
              "        const buttonEl =\n",
              "          document.querySelector('#df-938f6f87-45eb-4270-8da5-092d36a44e1d button.colab-df-convert');\n",
              "        buttonEl.style.display =\n",
              "          google.colab.kernel.accessAllowed ? 'block' : 'none';\n",
              "\n",
              "        async function convertToInteractive(key) {\n",
              "          const element = document.querySelector('#df-938f6f87-45eb-4270-8da5-092d36a44e1d');\n",
              "          const dataTable =\n",
              "            await google.colab.kernel.invokeFunction('convertToInteractive',\n",
              "                                                     [key], {});\n",
              "          if (!dataTable) return;\n",
              "\n",
              "          const docLinkHtml = 'Like what you see? Visit the ' +\n",
              "            '<a target=\"_blank\" href=https://colab.research.google.com/notebooks/data_table.ipynb>data table notebook</a>'\n",
              "            + ' to learn more about interactive tables.';\n",
              "          element.innerHTML = '';\n",
              "          dataTable['output_type'] = 'display_data';\n",
              "          await google.colab.output.renderOutput(dataTable, element);\n",
              "          const docLink = document.createElement('div');\n",
              "          docLink.innerHTML = docLinkHtml;\n",
              "          element.appendChild(docLink);\n",
              "        }\n",
              "      </script>\n",
              "    </div>\n",
              "  </div>\n",
              "  "
            ]
          },
          "metadata": {},
          "execution_count": 55
        }
      ]
    },
    {
      "cell_type": "code",
      "source": [
        "# summary of non-commute\n",
        "summary = df_non_commute.groupby(['wait_time'])['rider_cancellations','cost_per_ride','trips_express_pool'].agg('median').T\n",
        "summary['diff (2mins - 5mins)'] = summary['2 mins'] - summary['5 mins']\n",
        "summary"
      ],
      "metadata": {
        "colab": {
          "base_uri": "https://localhost:8080/",
          "height": 192
        },
        "id": "tdwCfp9hOKdG",
        "outputId": "ecabe849-0df3-422e-ddb4-dc0ee470bc61"
      },
      "execution_count": 56,
      "outputs": [
        {
          "output_type": "stream",
          "name": "stderr",
          "text": [
            "<ipython-input-56-b9fc4c55b17b>:2: FutureWarning: Indexing with multiple keys (implicitly converted to a tuple of keys) will be deprecated, use a list instead.\n",
            "  summary = df_non_commute.groupby(['wait_time'])['rider_cancellations','cost_per_ride','trips_express_pool'].agg('median').T\n"
          ]
        },
        {
          "output_type": "execute_result",
          "data": {
            "text/plain": [
              "wait_time                 2 mins       5 mins  diff (2mins - 5mins)\n",
              "rider_cancellations   156.000000   170.000000            -14.000000\n",
              "cost_per_ride           7.225132     6.881117              0.344015\n",
              "trips_express_pool   2453.000000  2276.000000            177.000000"
            ],
            "text/html": [
              "\n",
              "  <div id=\"df-ebcb3a88-60b7-4f54-b733-d4e637d118f9\">\n",
              "    <div class=\"colab-df-container\">\n",
              "      <div>\n",
              "<style scoped>\n",
              "    .dataframe tbody tr th:only-of-type {\n",
              "        vertical-align: middle;\n",
              "    }\n",
              "\n",
              "    .dataframe tbody tr th {\n",
              "        vertical-align: top;\n",
              "    }\n",
              "\n",
              "    .dataframe thead th {\n",
              "        text-align: right;\n",
              "    }\n",
              "</style>\n",
              "<table border=\"1\" class=\"dataframe\">\n",
              "  <thead>\n",
              "    <tr style=\"text-align: right;\">\n",
              "      <th>wait_time</th>\n",
              "      <th>2 mins</th>\n",
              "      <th>5 mins</th>\n",
              "      <th>diff (2mins - 5mins)</th>\n",
              "    </tr>\n",
              "  </thead>\n",
              "  <tbody>\n",
              "    <tr>\n",
              "      <th>rider_cancellations</th>\n",
              "      <td>156.000000</td>\n",
              "      <td>170.000000</td>\n",
              "      <td>-14.000000</td>\n",
              "    </tr>\n",
              "    <tr>\n",
              "      <th>cost_per_ride</th>\n",
              "      <td>7.225132</td>\n",
              "      <td>6.881117</td>\n",
              "      <td>0.344015</td>\n",
              "    </tr>\n",
              "    <tr>\n",
              "      <th>trips_express_pool</th>\n",
              "      <td>2453.000000</td>\n",
              "      <td>2276.000000</td>\n",
              "      <td>177.000000</td>\n",
              "    </tr>\n",
              "  </tbody>\n",
              "</table>\n",
              "</div>\n",
              "      <button class=\"colab-df-convert\" onclick=\"convertToInteractive('df-ebcb3a88-60b7-4f54-b733-d4e637d118f9')\"\n",
              "              title=\"Convert this dataframe to an interactive table.\"\n",
              "              style=\"display:none;\">\n",
              "        \n",
              "  <svg xmlns=\"http://www.w3.org/2000/svg\" height=\"24px\"viewBox=\"0 0 24 24\"\n",
              "       width=\"24px\">\n",
              "    <path d=\"M0 0h24v24H0V0z\" fill=\"none\"/>\n",
              "    <path d=\"M18.56 5.44l.94 2.06.94-2.06 2.06-.94-2.06-.94-.94-2.06-.94 2.06-2.06.94zm-11 1L8.5 8.5l.94-2.06 2.06-.94-2.06-.94L8.5 2.5l-.94 2.06-2.06.94zm10 10l.94 2.06.94-2.06 2.06-.94-2.06-.94-.94-2.06-.94 2.06-2.06.94z\"/><path d=\"M17.41 7.96l-1.37-1.37c-.4-.4-.92-.59-1.43-.59-.52 0-1.04.2-1.43.59L10.3 9.45l-7.72 7.72c-.78.78-.78 2.05 0 2.83L4 21.41c.39.39.9.59 1.41.59.51 0 1.02-.2 1.41-.59l7.78-7.78 2.81-2.81c.8-.78.8-2.07 0-2.86zM5.41 20L4 18.59l7.72-7.72 1.47 1.35L5.41 20z\"/>\n",
              "  </svg>\n",
              "      </button>\n",
              "      \n",
              "  <style>\n",
              "    .colab-df-container {\n",
              "      display:flex;\n",
              "      flex-wrap:wrap;\n",
              "      gap: 12px;\n",
              "    }\n",
              "\n",
              "    .colab-df-convert {\n",
              "      background-color: #E8F0FE;\n",
              "      border: none;\n",
              "      border-radius: 50%;\n",
              "      cursor: pointer;\n",
              "      display: none;\n",
              "      fill: #1967D2;\n",
              "      height: 32px;\n",
              "      padding: 0 0 0 0;\n",
              "      width: 32px;\n",
              "    }\n",
              "\n",
              "    .colab-df-convert:hover {\n",
              "      background-color: #E2EBFA;\n",
              "      box-shadow: 0px 1px 2px rgba(60, 64, 67, 0.3), 0px 1px 3px 1px rgba(60, 64, 67, 0.15);\n",
              "      fill: #174EA6;\n",
              "    }\n",
              "\n",
              "    [theme=dark] .colab-df-convert {\n",
              "      background-color: #3B4455;\n",
              "      fill: #D2E3FC;\n",
              "    }\n",
              "\n",
              "    [theme=dark] .colab-df-convert:hover {\n",
              "      background-color: #434B5C;\n",
              "      box-shadow: 0px 1px 3px 1px rgba(0, 0, 0, 0.15);\n",
              "      filter: drop-shadow(0px 1px 2px rgba(0, 0, 0, 0.3));\n",
              "      fill: #FFFFFF;\n",
              "    }\n",
              "  </style>\n",
              "\n",
              "      <script>\n",
              "        const buttonEl =\n",
              "          document.querySelector('#df-ebcb3a88-60b7-4f54-b733-d4e637d118f9 button.colab-df-convert');\n",
              "        buttonEl.style.display =\n",
              "          google.colab.kernel.accessAllowed ? 'block' : 'none';\n",
              "\n",
              "        async function convertToInteractive(key) {\n",
              "          const element = document.querySelector('#df-ebcb3a88-60b7-4f54-b733-d4e637d118f9');\n",
              "          const dataTable =\n",
              "            await google.colab.kernel.invokeFunction('convertToInteractive',\n",
              "                                                     [key], {});\n",
              "          if (!dataTable) return;\n",
              "\n",
              "          const docLinkHtml = 'Like what you see? Visit the ' +\n",
              "            '<a target=\"_blank\" href=https://colab.research.google.com/notebooks/data_table.ipynb>data table notebook</a>'\n",
              "            + ' to learn more about interactive tables.';\n",
              "          element.innerHTML = '';\n",
              "          dataTable['output_type'] = 'display_data';\n",
              "          await google.colab.output.renderOutput(dataTable, element);\n",
              "          const docLink = document.createElement('div');\n",
              "          docLink.innerHTML = docLinkHtml;\n",
              "          element.appendChild(docLink);\n",
              "        }\n",
              "      </script>\n",
              "    </div>\n",
              "  </div>\n",
              "  "
            ]
          },
          "metadata": {},
          "execution_count": 56
        }
      ]
    },
    {
      "cell_type": "markdown",
      "source": [
        "##### Number of Express Pool During Commute Period"
      ],
      "metadata": {
        "id": "5WDM4o__R5Ww"
      }
    },
    {
      "cell_type": "markdown",
      "source": [
        "$Hypothesis\\ Test\\\\\n",
        " H_0: median_{num\\ of\\ express\\ pool\\ in\\ 2\\ mins} \\le median_{num\\ of\\ express\\ pool\\ in\\ 5\\ mins}\\\\ \n",
        " H_0: median_{num\\ of\\ express\\ pool\\ in\\ 2\\ mins} > median_{num\\ of\\ express\\ pool\\ in\\ 5\\ mins}\\\\ $\n"
      ],
      "metadata": {
        "id": "zHfkGD2CKPTu"
      }
    },
    {
      "cell_type": "code",
      "source": [
        "statistic,p_value =  stats.mannwhitneyu(df_commute[df_commute['treat']==False]['trips_express_pool'], df_commute[df_commute['treat']==True]['trips_express_pool'], alternative='greater')\n",
        "print('Statistics = %.3f, P-value=%.3f' %(statistic,p_value)) "
      ],
      "metadata": {
        "colab": {
          "base_uri": "https://localhost:8080/"
        },
        "id": "c-eF2u9cIZ-L",
        "outputId": "b7ae0849-499c-4500-a569-18ded026b525"
      },
      "execution_count": 69,
      "outputs": [
        {
          "output_type": "stream",
          "name": "stdout",
          "text": [
            "Statistics = 68.000, P-value=0.093\n"
          ]
        }
      ]
    },
    {
      "cell_type": "markdown",
      "source": [
        "- Finding: T-test: P-value=0.093 > $α$ = 0.05, we fail reject  the null hypothesis\n",
        "- Conclusion: Using the 5% siginificane level, we fail to  reject the null hypothesis that the median number of express pool of 2 min wait time is less or equal to that of a 5 min wait time."
      ],
      "metadata": {
        "id": "YAAG9ibDMaMz"
      }
    },
    {
      "cell_type": "markdown",
      "source": [
        "##### Number of Express Pool During Non-Commute Period"
      ],
      "metadata": {
        "id": "y01YuMQqSI5A"
      }
    },
    {
      "cell_type": "markdown",
      "source": [
        "$Hypothesis\\ Test\\\\\n",
        " H_0: median_{num\\ of\\ express\\ pool\\ in\\ 2\\ mins} \\le median_{num\\ of\\ express\\ pool\\ in\\ 5\\ mins}\\\\ \n",
        " H_0: median_{num\\ of\\ express\\ pool\\ in\\ 2\\ mins} > median_{num\\ of\\ express\\ pool\\ in\\ 5\\ mins}\\\\ $\n"
      ],
      "metadata": {
        "id": "0CgUcBaTSTGp"
      }
    },
    {
      "cell_type": "code",
      "source": [
        "statistic,p_value =  stats.mannwhitneyu(df_non_commute[df_non_commute['treat']==False]['trips_express_pool'], df_non_commute[df_non_commute['treat']==True]['trips_express_pool'], alternative='greater')\n",
        "print('Statistics = %.3f, P-value=%.3f' %(statistic,p_value)) "
      ],
      "metadata": {
        "colab": {
          "base_uri": "https://localhost:8080/"
        },
        "id": "zNMlkB30STvS",
        "outputId": "badb65eb-e278-4d06-f062-b6bf9191351a"
      },
      "execution_count": 70,
      "outputs": [
        {
          "output_type": "stream",
          "name": "stdout",
          "text": [
            "Statistics = 1838.500, P-value=0.003\n"
          ]
        }
      ]
    },
    {
      "cell_type": "markdown",
      "source": [
        "- Finding: T-test: P-value=0.003 < $α$ = 0.05, we reject  the null hypothesis\n",
        "- Conclusion: We are 95% confident to reject the null hypothesis that the median number of express pool of a 2 min wait time is less or equal to that of a 5 min wait time. Instead, the median number of epress pool of a 2 min wait time are roughly 177 times more than that of 5 min wait time. "
      ],
      "metadata": {
        "id": "Mne20dVXSezE"
      }
    },
    {
      "cell_type": "markdown",
      "source": [
        "##### Number of Rider Cancellations During Commute Period"
      ],
      "metadata": {
        "id": "soGZzKyOV1yI"
      }
    },
    {
      "cell_type": "markdown",
      "source": [
        "$Hypothesis\\ Test\\\\\n",
        " H_0: median_{num\\ of\\ rider\\ cancellations\\ in\\ 2\\ mins} \\ge median_{num\\ of\\ rider\\ cancellations\\ in\\ 5\\ mins}\\\\ \n",
        " H_0: median_{num\\ of\\ rider\\ cancellations\\ in\\ 2\\ mins} < median_{num\\ of\\ rider\\ cancellations\\ in\\ 5\\ mins}\\\\ $\n"
      ],
      "metadata": {
        "id": "KmuPjP7MV_49"
      }
    },
    {
      "cell_type": "code",
      "source": [
        "statistic,p_value =  stats.mannwhitneyu(df_commute[df_commute['treat']==False]['rider_cancellations'], df_commute[df_commute['treat']==True]['rider_cancellations'], alternative='less')\n",
        "print('Statistics = %.3f, P-value=%.3f' %(statistic,p_value)) "
      ],
      "metadata": {
        "colab": {
          "base_uri": "https://localhost:8080/"
        },
        "id": "sfToyrtrUZjz",
        "outputId": "1b9d3415-c284-47bf-d4a8-3a4c66477168"
      },
      "execution_count": 71,
      "outputs": [
        {
          "output_type": "stream",
          "name": "stdout",
          "text": [
            "Statistics = 13.000, P-value=0.003\n"
          ]
        }
      ]
    },
    {
      "cell_type": "markdown",
      "source": [
        "- Finding: T-test: P-value=0.003 < $α$ = 0.05, we reject  the null hypothesis\n",
        "- Conclusion: We are 95% confident to reject the null hypothesis that the median number of rider cancellations of a 2 min wait time is greater or equal to that of a 5 min wait time. Instead, the median number of rider cancellations of a 2 min wait time are roughly 50 times less than that of 5 min wait time. "
      ],
      "metadata": {
        "id": "7sumAYQkWxe4"
      }
    },
    {
      "cell_type": "markdown",
      "source": [
        "##### Number of Rider Cancellations During Non-Commute Period"
      ],
      "metadata": {
        "id": "0GTEJy5-XBUe"
      }
    },
    {
      "cell_type": "markdown",
      "source": [
        "$Hypothesis\\ Test\\\\\n",
        " H_0: median_{num\\ of\\ rider\\ cancellations\\ in\\ 2\\ mins} \\ge median_{num\\ of\\ rider\\ cancellations\\ in\\ 5\\ mins}\\\\ \n",
        " H_0: median_{num\\ of\\ rider\\ cancellations\\ in\\ 2\\ mins} < median_{num\\ of\\ rider\\ cancellations\\ in\\ 5\\ mins}\\\\ $\n"
      ],
      "metadata": {
        "id": "N73yQgBUXGiH"
      }
    },
    {
      "cell_type": "code",
      "source": [
        "statistic,p_value =  stats.mannwhitneyu(df_non_commute[df_non_commute['treat']==False]['rider_cancellations'], df_non_commute[df_non_commute['treat']==True]['rider_cancellations'], alternative='less')\n",
        "print('Statistics = %.3f, P-value=%.3f' %(statistic,p_value)) "
      ],
      "metadata": {
        "colab": {
          "base_uri": "https://localhost:8080/"
        },
        "id": "550jEKyVWui1",
        "outputId": "2d16b19e-0142-4212-8794-5fa69bfc1f7d"
      },
      "execution_count": 73,
      "outputs": [
        {
          "output_type": "stream",
          "name": "stdout",
          "text": [
            "Statistics = 841.500, P-value=0.000\n"
          ]
        }
      ]
    },
    {
      "cell_type": "markdown",
      "source": [
        "- Finding: T-test: P-value=0.000 < $α$ = 0.05, we reject  the null hypothesis\n",
        "- Conclusion: We are 95% confident to reject the null hypothesis that the median number of rider cancellations of a 2 min wait time is greater or equal to that of a 5 min wait time. Instead, the median number of rider cancellations of a 2 min wait time are roughly 14 times less than that of 5 min wait time. "
      ],
      "metadata": {
        "id": "Dkf0OjsDXR0Q"
      }
    },
    {
      "cell_type": "markdown",
      "source": [
        "##### Cost per Trip During Commute Period"
      ],
      "metadata": {
        "id": "eyoU87IcXhYF"
      }
    },
    {
      "cell_type": "markdown",
      "source": [
        "$Hypothesis\\ Test\\\\\n",
        " H_0: median_{cost\\ per\\ trip\\ in\\ 2\\ mins} \\le median_{cost\\ per\\ trip\\ in\\ 5\\ mins}\\\\ \n",
        " H_0: median_{cost\\ per\\ trip\\ in\\ 2\\ mins} > median_{cost\\ per\\ trip\\ in\\ 5\\ mins}\\\\ $\n"
      ],
      "metadata": {
        "id": "kwMtJj27XlkD"
      }
    },
    {
      "cell_type": "code",
      "source": [
        "statistic,p_value =  stats.mannwhitneyu(df_commute[df_commute['treat']==False]['cost_per_ride'], df_commute[df_commute['treat']==True]['cost_per_ride'], alternative='greater')\n",
        "print('Statistics = %.3f, P-value=%.3f' %(statistic,p_value)) "
      ],
      "metadata": {
        "colab": {
          "base_uri": "https://localhost:8080/"
        },
        "id": "f8KMMviQXlUb",
        "outputId": "a4f95965-b737-4905-ba44-9a4f857a6fba"
      },
      "execution_count": 84,
      "outputs": [
        {
          "output_type": "stream",
          "name": "stdout",
          "text": [
            "Statistics = 65.000, P-value=0.137\n"
          ]
        }
      ]
    },
    {
      "cell_type": "markdown",
      "source": [
        "- Finding: T-test: P-value=0.003 < $α$ = 0.05, we reject  the null hypothesis\n",
        "- Conclusion: at the 5% significance level, we fail to reject the null hypothesis that the median cost per trip in a 2 min wait time is less than or equal to that of a 5 min wait time."
      ],
      "metadata": {
        "id": "26P63IVlYS7_"
      }
    },
    {
      "cell_type": "markdown",
      "source": [
        "##### Cost per Trip During Non-Commute Period"
      ],
      "metadata": {
        "id": "NV81O_SCZt2d"
      }
    },
    {
      "cell_type": "markdown",
      "source": [
        "$Hypothesis\\ Test\\\\\n",
        " H_0: median_{cost\\ per\\ trip\\ in\\ 2\\ mins} \\le median_{cost\\ per\\ trip\\ in\\ 5\\ mins}\\\\ \n",
        " H_0: median_{cost\\ per\\ trip\\ in\\ 2\\ mins} > median_{cost\\ per\\ trip\\ in\\ 5\\ mins}\\\\ $\n"
      ],
      "metadata": {
        "id": "NDUuY7NVZxQK"
      }
    },
    {
      "cell_type": "code",
      "source": [
        "statistic,p_value =  stats.mannwhitneyu(df_non_commute[df_non_commute['treat']==False]['cost_per_ride'], df_non_commute[df_non_commute['treat']==True]['cost_per_ride'], alternative='greater')\n",
        "print('Statistics = %.3f, P-value=%.3f' %(statistic,p_value)) "
      ],
      "metadata": {
        "colab": {
          "base_uri": "https://localhost:8080/"
        },
        "id": "RVsGz0ugXZVt",
        "outputId": "77e98892-0e75-4365-cd99-3368bf92777b"
      },
      "execution_count": 85,
      "outputs": [
        {
          "output_type": "stream",
          "name": "stdout",
          "text": [
            "Statistics = 1935.000, P-value=0.000\n"
          ]
        }
      ]
    },
    {
      "cell_type": "markdown",
      "source": [
        "- Finding: T-test: P-value=0.000 < $α$ = 0.05, we reject  the null hypothesis\n",
        "- Conclusion: We are 95% confident to reject the null hypothesis that the median number of cost per trip of a 2 min wait time is less than or equal to that of a 5 min wait time. Instead, the median number of cost per trip of a 2 min wait time are roughly $0.344 more than that of 5 min wait time. "
      ],
      "metadata": {
        "id": "LQQ_mrc5j5gt"
      }
    },
    {
      "cell_type": "markdown",
      "source": [
        "#### Question 3"
      ],
      "metadata": {
        "id": "gt8mCS6QoV4g"
      }
    },
    {
      "cell_type": "markdown",
      "source": [
        "Assumptions\n",
        "1. Total ride in a 5 min wait time would be as many as that in a 2 min wait time, if the 2 min wait time is replaced by the 5 min wait time.\n",
        "2. The average number of passengers who take Uber in the coming three weeks will be roughly the same as that in the past.\n",
        "3. The average difference of payout to driver in a 2 min wait time and in a 5 min wait time in the coming three weeks will be roughly the same as that in the past.\n",
        "4. The average number of passeners, in the rest of the cities, who take Uber will be roughly the same as that in Boston."
      ],
      "metadata": {
        "id": "x5eFckpDp5_O"
      }
    },
    {
      "cell_type": "code",
      "source": [
        "summary = df_raw.groupby(['wait_time'])['total_ride','cost_per_ride'].agg('mean').T\n",
        "summary"
      ],
      "metadata": {
        "colab": {
          "base_uri": "https://localhost:8080/",
          "height": 162
        },
        "id": "X_dISbWloed8",
        "outputId": "85352589-629b-4127-d3a0-4f82049add4c"
      },
      "execution_count": 103,
      "outputs": [
        {
          "output_type": "stream",
          "name": "stderr",
          "text": [
            "<ipython-input-103-a3f0069257a6>:1: FutureWarning: Indexing with multiple keys (implicitly converted to a tuple of keys) will be deprecated, use a list instead.\n",
            "  summary = df_raw.groupby(['wait_time'])['total_ride','cost_per_ride'].agg('mean').T\n"
          ]
        },
        {
          "output_type": "execute_result",
          "data": {
            "text/plain": [
              "wait_time           2 mins       5 mins\n",
              "total_ride     3966.984127  3880.079365\n",
              "cost_per_ride     7.364866     6.987458"
            ],
            "text/html": [
              "\n",
              "  <div id=\"df-17ea0187-6375-41ac-84a1-2c3e99ad1750\">\n",
              "    <div class=\"colab-df-container\">\n",
              "      <div>\n",
              "<style scoped>\n",
              "    .dataframe tbody tr th:only-of-type {\n",
              "        vertical-align: middle;\n",
              "    }\n",
              "\n",
              "    .dataframe tbody tr th {\n",
              "        vertical-align: top;\n",
              "    }\n",
              "\n",
              "    .dataframe thead th {\n",
              "        text-align: right;\n",
              "    }\n",
              "</style>\n",
              "<table border=\"1\" class=\"dataframe\">\n",
              "  <thead>\n",
              "    <tr style=\"text-align: right;\">\n",
              "      <th>wait_time</th>\n",
              "      <th>2 mins</th>\n",
              "      <th>5 mins</th>\n",
              "    </tr>\n",
              "  </thead>\n",
              "  <tbody>\n",
              "    <tr>\n",
              "      <th>total_ride</th>\n",
              "      <td>3966.984127</td>\n",
              "      <td>3880.079365</td>\n",
              "    </tr>\n",
              "    <tr>\n",
              "      <th>cost_per_ride</th>\n",
              "      <td>7.364866</td>\n",
              "      <td>6.987458</td>\n",
              "    </tr>\n",
              "  </tbody>\n",
              "</table>\n",
              "</div>\n",
              "      <button class=\"colab-df-convert\" onclick=\"convertToInteractive('df-17ea0187-6375-41ac-84a1-2c3e99ad1750')\"\n",
              "              title=\"Convert this dataframe to an interactive table.\"\n",
              "              style=\"display:none;\">\n",
              "        \n",
              "  <svg xmlns=\"http://www.w3.org/2000/svg\" height=\"24px\"viewBox=\"0 0 24 24\"\n",
              "       width=\"24px\">\n",
              "    <path d=\"M0 0h24v24H0V0z\" fill=\"none\"/>\n",
              "    <path d=\"M18.56 5.44l.94 2.06.94-2.06 2.06-.94-2.06-.94-.94-2.06-.94 2.06-2.06.94zm-11 1L8.5 8.5l.94-2.06 2.06-.94-2.06-.94L8.5 2.5l-.94 2.06-2.06.94zm10 10l.94 2.06.94-2.06 2.06-.94-2.06-.94-.94-2.06-.94 2.06-2.06.94z\"/><path d=\"M17.41 7.96l-1.37-1.37c-.4-.4-.92-.59-1.43-.59-.52 0-1.04.2-1.43.59L10.3 9.45l-7.72 7.72c-.78.78-.78 2.05 0 2.83L4 21.41c.39.39.9.59 1.41.59.51 0 1.02-.2 1.41-.59l7.78-7.78 2.81-2.81c.8-.78.8-2.07 0-2.86zM5.41 20L4 18.59l7.72-7.72 1.47 1.35L5.41 20z\"/>\n",
              "  </svg>\n",
              "      </button>\n",
              "      \n",
              "  <style>\n",
              "    .colab-df-container {\n",
              "      display:flex;\n",
              "      flex-wrap:wrap;\n",
              "      gap: 12px;\n",
              "    }\n",
              "\n",
              "    .colab-df-convert {\n",
              "      background-color: #E8F0FE;\n",
              "      border: none;\n",
              "      border-radius: 50%;\n",
              "      cursor: pointer;\n",
              "      display: none;\n",
              "      fill: #1967D2;\n",
              "      height: 32px;\n",
              "      padding: 0 0 0 0;\n",
              "      width: 32px;\n",
              "    }\n",
              "\n",
              "    .colab-df-convert:hover {\n",
              "      background-color: #E2EBFA;\n",
              "      box-shadow: 0px 1px 2px rgba(60, 64, 67, 0.3), 0px 1px 3px 1px rgba(60, 64, 67, 0.15);\n",
              "      fill: #174EA6;\n",
              "    }\n",
              "\n",
              "    [theme=dark] .colab-df-convert {\n",
              "      background-color: #3B4455;\n",
              "      fill: #D2E3FC;\n",
              "    }\n",
              "\n",
              "    [theme=dark] .colab-df-convert:hover {\n",
              "      background-color: #434B5C;\n",
              "      box-shadow: 0px 1px 3px 1px rgba(0, 0, 0, 0.15);\n",
              "      filter: drop-shadow(0px 1px 2px rgba(0, 0, 0, 0.3));\n",
              "      fill: #FFFFFF;\n",
              "    }\n",
              "  </style>\n",
              "\n",
              "      <script>\n",
              "        const buttonEl =\n",
              "          document.querySelector('#df-17ea0187-6375-41ac-84a1-2c3e99ad1750 button.colab-df-convert');\n",
              "        buttonEl.style.display =\n",
              "          google.colab.kernel.accessAllowed ? 'block' : 'none';\n",
              "\n",
              "        async function convertToInteractive(key) {\n",
              "          const element = document.querySelector('#df-17ea0187-6375-41ac-84a1-2c3e99ad1750');\n",
              "          const dataTable =\n",
              "            await google.colab.kernel.invokeFunction('convertToInteractive',\n",
              "                                                     [key], {});\n",
              "          if (!dataTable) return;\n",
              "\n",
              "          const docLinkHtml = 'Like what you see? Visit the ' +\n",
              "            '<a target=\"_blank\" href=https://colab.research.google.com/notebooks/data_table.ipynb>data table notebook</a>'\n",
              "            + ' to learn more about interactive tables.';\n",
              "          element.innerHTML = '';\n",
              "          dataTable['output_type'] = 'display_data';\n",
              "          await google.colab.output.renderOutput(dataTable, element);\n",
              "          const docLink = document.createElement('div');\n",
              "          docLink.innerHTML = docLinkHtml;\n",
              "          element.appendChild(docLink);\n",
              "        }\n",
              "      </script>\n",
              "    </div>\n",
              "  </div>\n",
              "  "
            ]
          },
          "metadata": {},
          "execution_count": 103
        }
      ]
    },
    {
      "cell_type": "code",
      "source": [
        "cost_lost_per_day_per_city = round((summary['2 mins']['total_ride'])*(summary['2 mins']['cost_per_ride']-summary['5 mins']['cost_per_ride'])*9)\n",
        "cost_lost_per_day_per_city"
      ],
      "metadata": {
        "colab": {
          "base_uri": "https://localhost:8080/"
        },
        "id": "T6j3GDXGqpiM",
        "outputId": "c9b7852a-e665-4185-f464-96be7e70da6f"
      },
      "execution_count": 104,
      "outputs": [
        {
          "output_type": "execute_result",
          "data": {
            "text/plain": [
              "13475"
            ]
          },
          "metadata": {},
          "execution_count": 104
        }
      ]
    },
    {
      "cell_type": "code",
      "source": [
        "total_cost_in_dollar = round(cost_lost_per_day_per_city * 3 * 7 * 6)\n",
        "total_cost_in_dollar"
      ],
      "metadata": {
        "colab": {
          "base_uri": "https://localhost:8080/"
        },
        "id": "oO_vJxddtPMK",
        "outputId": "0be92548-fc32-49ac-882e-f45e1f4f688d"
      },
      "execution_count": 105,
      "outputs": [
        {
          "output_type": "execute_result",
          "data": {
            "text/plain": [
              "1697850"
            ]
          },
          "metadata": {},
          "execution_count": 105
        }
      ]
    },
    {
      "cell_type": "markdown",
      "source": [
        "- Conclusion: Under the above assumptions, Uber would lose roughly $1.7 million in the next three weeks at the 6 cities, if wait time were kept at 2 minutes to 5 minutes."
      ],
      "metadata": {
        "id": "w_huSOeMuIxb"
      }
    },
    {
      "cell_type": "markdown",
      "source": [
        "#### Question 4"
      ],
      "metadata": {
        "id": "skC-ZuLWunP_"
      }
    },
    {
      "cell_type": "markdown",
      "source": [
        "Recommendation:\n",
        "\n",
        "Based on the available data, I would recommend Uber continue with the 2 minute wait time option and not increase the wait time to 5 minute in the six treatment citiies. \n",
        "1. The average number of cancellations of a 2 min wait time, during a 160-min interval, is 25 times lower than that of a 5 min wait time. The average number of cancellations is even lower during commute period. This could increase both customer and driver satisfcation, while lower the matching cost of Uber. lower cancellation can also prevent potential churning of customers. \n",
        "2. The average number of express pool of a 2 min wait can is greater than that of a 5 min wait time, especially during commute period. This could bring more revenue to Uber.\n",
        "3. Though the cost of the 2 min wait is higher than that of the 5 min wait time, it can bring more passengers and lower cancellation rate, which mitigates the cost.\n",
        "\n",
        "In the future: \n",
        "1. If the price per trip could be provided, profit could be calculated. Decisions made on profit would be accurate.\n",
        "2. If customer and driver's rate could be provided, long-term benefit of lauching the Express Pool in different wait time could be quantified."
      ],
      "metadata": {
        "id": "5FFmz0_MupWy"
      }
    }
  ]
}